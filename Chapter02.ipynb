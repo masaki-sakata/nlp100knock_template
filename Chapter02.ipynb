{
  "nbformat": 4,
  "nbformat_minor": 0,
  "metadata": {
    "colab": {
      "provenance": [],
      "authorship_tag": "ABX9TyPmMddLW0ElInNQLyezhACx"
    },
    "kernelspec": {
      "name": "python3",
      "display_name": "Python 3"
    },
    "language_info": {
      "name": "python"
    }
  },
  "cells": [
    {
      "cell_type": "markdown",
      "metadata": {
        "id": "uGHU9Bpd2SS1"
      },
      "source": [
        "# 第2章: UNIXコマンド\n",
        "[popular-names.txt](https://nlp100.github.io/data/popular-names.txt)は，アメリカで生まれた赤ちゃんの「名前」「性別」「人数」「年」をタブ区切り形式で格納したファイルである．以下の処理を行うプログラムを作成し，[popular-names.txt](https://nlp100.github.io/data/popular-names.txt)を入力ファイルとして実行せよ．さらに，同様の処理をUNIXコマンドでも実行し，プログラムの実行結果を確認せよ．"
      ]
    },
    {
      "cell_type": "code",
      "metadata": {
        "id": "cn-6zG3wkQYx"
      },
      "source": [
        "!wget https://nlp100.github.io/data/popular-names.txt"
      ],
      "execution_count": null,
      "outputs": []
    },
    {
      "cell_type": "markdown",
      "metadata": {
        "id": "vDLdqfP92QtB"
      },
      "source": [
        "## 10. 行数のカウント\n",
        "\n",
        "行数をカウントせよ．確認にはwcコマンドを用いよ．"
      ]
    },
    {
      "cell_type": "markdown",
      "metadata": {
        "id": "0j76rjw_hqu6"
      },
      "source": [
        "## 11. タブをスペースに置換\n",
        "\n",
        "タブ1文字につきスペース1文字に置換せよ．確認にはsedコマンド，trコマンド，もしくはexpandコマンドを用いよ．"
      ]
    },
    {
      "cell_type": "markdown",
      "metadata": {
        "id": "98L6Id8Ni-uy"
      },
      "source": [
        "## 12. 1列目をcol1.txtに，2列目をcol2.txtに保存\n",
        "\n",
        "各行の1列目だけを抜き出したものをcol1.txtに，2列目だけを抜き出したものをcol2.txtとしてファイルに保存せよ．確認にはcutコマンドを用いよ．"
      ]
    },
    {
      "cell_type": "markdown",
      "metadata": {
        "id": "Q5Hrt-KckVGG"
      },
      "source": [
        "## 13. col1.txtとcol2.txtをマージ\n",
        "\n",
        "12で作ったcol1.txtとcol2.txtを結合し，元のファイルの1列目と2列目をタブ区切りで並べたテキストファイルを作成せよ．確認にはpasteコマンドを用いよ．"
      ]
    },
    {
      "cell_type": "markdown",
      "metadata": {
        "id": "1OT_n-pdk063"
      },
      "source": [
        "## 14. 先頭からN行を出力\n",
        "\n",
        "自然数Nをコマンドライン引数などの手段で受け取り，入力のうち先頭のN行だけを表示せよ．確認にはheadコマンドを用いよ．"
      ]
    },
    {
      "cell_type": "markdown",
      "metadata": {
        "id": "TGUOVzf4ldPk"
      },
      "source": [
        "## 15. 末尾のN行を出力\n",
        "\n",
        "自然数Nをコマンドライン引数などの手段で受け取り，入力のうち末尾のN行だけを表示せよ．確認にはtailコマンドを用いよ．"
      ]
    },
    {
      "cell_type": "markdown",
      "metadata": {
        "id": "nkoTJj2klmDA"
      },
      "source": [
        "## 16. ファイルをN分割する\n",
        "\n",
        "自然数Nをコマンドライン引数などの手段で受け取り，入力のファイルを行単位でN分割せよ．同様の処理をsplitコマンドで実現せよ．"
      ]
    },
    {
      "cell_type": "markdown",
      "metadata": {
        "id": "rv5fVjIRl7QK"
      },
      "source": [
        "## 17. １列目の文字列の異なり\n",
        "\n",
        "1列目の文字列の種類（異なる文字列の集合）を求めよ．確認にはcut, sort, uniqコマンドを用いよ．"
      ]
    },
    {
      "cell_type": "markdown",
      "metadata": {
        "id": "6JYgH5aUrWIc"
      },
      "source": [
        "## 18. 各行を3コラム目の数値の降順にソート\n",
        "\n",
        "各行を3コラム目の数値の逆順で整列せよ（注意: 各行の内容は変更せずに並び替えよ）．確認にはsortコマンドを用いよ（この問題はコマンドで実行した時の結果と合わなくてもよい）．"
      ]
    },
    {
      "cell_type": "markdown",
      "metadata": {
        "id": "4_AMuAgHsjfE"
      },
      "source": [
        "## 19. 各行の1コラム目の文字列の出現頻度を求め，出現頻度の高い順に並べる\n",
        "\n",
        "各行の1列目の文字列の出現頻度を求め，その高い順に並べて表示せよ．確認にはcut, uniq, sortコマンドを用いよ．"
      ]
    }
  ]
}